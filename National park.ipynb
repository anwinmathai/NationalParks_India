{
 "cells": [
  {
   "cell_type": "code",
   "execution_count": 49,
   "metadata": {},
   "outputs": [],
   "source": [
    "import pandas as pd\n",
    "\n",
    "import folium as fo\n",
    "\n"
   ]
  },
  {
   "cell_type": "code",
   "execution_count": 50,
   "metadata": {},
   "outputs": [],
   "source": [
    "data=pd.read_csv(\"National Parks.csv\")"
   ]
  },
  {
   "cell_type": "code",
   "execution_count": 51,
   "metadata": {},
   "outputs": [
    {
     "data": {
      "text/html": [
       "<div>\n",
       "<style scoped>\n",
       "    .dataframe tbody tr th:only-of-type {\n",
       "        vertical-align: middle;\n",
       "    }\n",
       "\n",
       "    .dataframe tbody tr th {\n",
       "        vertical-align: top;\n",
       "    }\n",
       "\n",
       "    .dataframe thead th {\n",
       "        text-align: right;\n",
       "    }\n",
       "</style>\n",
       "<table border=\"1\" class=\"dataframe\">\n",
       "  <thead>\n",
       "    <tr style=\"text-align: right;\">\n",
       "      <th></th>\n",
       "      <th>NAME</th>\n",
       "      <th>PLACE</th>\n",
       "      <th>LAT</th>\n",
       "      <th>LON</th>\n",
       "    </tr>\n",
       "  </thead>\n",
       "  <tbody>\n",
       "    <tr>\n",
       "      <th>0</th>\n",
       "      <td>Neora Valley National Park</td>\n",
       "      <td>Darjeeling</td>\n",
       "      <td>27.085251</td>\n",
       "      <td>88.700928</td>\n",
       "    </tr>\n",
       "    <tr>\n",
       "      <th>1</th>\n",
       "      <td>Manas National Park</td>\n",
       "      <td>Gobardhana</td>\n",
       "      <td>26.659424</td>\n",
       "      <td>91.001129</td>\n",
       "    </tr>\n",
       "    <tr>\n",
       "      <th>2</th>\n",
       "      <td>Neyyar Wildlife Sanctuary</td>\n",
       "      <td>Kallikkad</td>\n",
       "      <td>8.534849</td>\n",
       "      <td>77.150116</td>\n",
       "    </tr>\n",
       "    <tr>\n",
       "      <th>3</th>\n",
       "      <td>Dasuya Forest Division</td>\n",
       "      <td>Dasuya</td>\n",
       "      <td>31.856564</td>\n",
       "      <td>75.875702</td>\n",
       "    </tr>\n",
       "    <tr>\n",
       "      <th>4</th>\n",
       "      <td>Keibul Lamjao National Park</td>\n",
       "      <td>Bishnupur</td>\n",
       "      <td>24.567108</td>\n",
       "      <td>93.836975</td>\n",
       "    </tr>\n",
       "    <tr>\n",
       "      <th>5</th>\n",
       "      <td>New Amarambalam Wildlife Sanctuary</td>\n",
       "      <td>Kavalamukkatta</td>\n",
       "      <td>11.344064</td>\n",
       "      <td>76.409912</td>\n",
       "    </tr>\n",
       "    <tr>\n",
       "      <th>6</th>\n",
       "      <td>Tungareshwar National Park</td>\n",
       "      <td>Usgaon</td>\n",
       "      <td>19.403315</td>\n",
       "      <td>72.957870</td>\n",
       "    </tr>\n",
       "    <tr>\n",
       "      <th>7</th>\n",
       "      <td>Chandoli National Park</td>\n",
       "      <td>Kalgaon</td>\n",
       "      <td>17.143744</td>\n",
       "      <td>73.857307</td>\n",
       "    </tr>\n",
       "    <tr>\n",
       "      <th>8</th>\n",
       "      <td>Koyna Wildlife Sanctuary</td>\n",
       "      <td>Koyna</td>\n",
       "      <td>17.781902</td>\n",
       "      <td>73.700935</td>\n",
       "    </tr>\n",
       "    <tr>\n",
       "      <th>9</th>\n",
       "      <td>Jim Corbett National Park</td>\n",
       "      <td>Ramnagar</td>\n",
       "      <td>29.548599</td>\n",
       "      <td>78.935303</td>\n",
       "    </tr>\n",
       "  </tbody>\n",
       "</table>\n",
       "</div>"
      ],
      "text/plain": [
       "                                 NAME            PLACE        LAT        LON\n",
       "0          Neora Valley National Park       Darjeeling  27.085251  88.700928\n",
       "1                 Manas National Park       Gobardhana  26.659424  91.001129\n",
       "2           Neyyar Wildlife Sanctuary        Kallikkad   8.534849  77.150116\n",
       "3              Dasuya Forest Division           Dasuya  31.856564  75.875702\n",
       "4         Keibul Lamjao National Park        Bishnupur  24.567108  93.836975\n",
       "5  New Amarambalam Wildlife Sanctuary   Kavalamukkatta  11.344064  76.409912\n",
       "6          Tungareshwar National Park           Usgaon  19.403315  72.957870\n",
       "7              Chandoli National Park          Kalgaon  17.143744  73.857307\n",
       "8            Koyna Wildlife Sanctuary            Koyna  17.781902  73.700935\n",
       "9           Jim Corbett National Park         Ramnagar  29.548599  78.935303"
      ]
     },
     "execution_count": 51,
     "metadata": {},
     "output_type": "execute_result"
    }
   ],
   "source": [
    "data.head(10)"
   ]
  },
  {
   "cell_type": "code",
   "execution_count": 52,
   "metadata": {},
   "outputs": [
    {
     "data": {
      "text/plain": [
       "0     27.085251\n",
       "1     26.659424\n",
       "2      8.534849\n",
       "3     31.856564\n",
       "4     24.567108\n",
       "5     11.344064\n",
       "6     19.403315\n",
       "7     17.143744\n",
       "8     17.781902\n",
       "9     29.548599\n",
       "10    22.016617\n",
       "11    11.666400\n",
       "12    27.669033\n",
       "13    26.575863\n",
       "14    13.894744\n",
       "Name: LAT, dtype: float64"
      ]
     },
     "execution_count": 52,
     "metadata": {},
     "output_type": "execute_result"
    }
   ],
   "source": [
    "data.iloc[:,2]"
   ]
  },
  {
   "cell_type": "code",
   "execution_count": 58,
   "metadata": {},
   "outputs": [
    {
     "data": {
      "text/html": [
       "<div style=\"width:100%;\"><div style=\"position:relative;width:100%;height:0;padding-bottom:60%;\"><iframe src=\"about:blank\" style=\"position:absolute;width:100%;height:100%;left:0;top:0;border:none !important;\" data-html=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 onload=\"this.contentDocument.open();this.contentDocument.write(atob(this.getAttribute('data-html')));this.contentDocument.close();\" allowfullscreen webkitallowfullscreen mozallowfullscreen></iframe></div></div>"
      ],
      "text/plain": [
       "<folium.folium.Map at 0x7fc0e7df9c10>"
      ]
     },
     "execution_count": 58,
     "metadata": {},
     "output_type": "execute_result"
    }
   ],
   "source": [
    "\n",
    "m = fo.Map(\n",
    "    location=[data.iloc[1,2],data.iloc[1,3]],\n",
    "    zoom_start=12,\n",
    "    tiles='Stamen Terrain'\n",
    ")\n",
    "\n",
    "# loop to add each marker into the map using the lat and longitude.\n",
    "for i in range(0,len(data)):\n",
    "    fo.Marker([data.iloc[i][2], data.iloc[i][3]], popup=data.iloc[i][0]).add_to(m)\n",
    "\n",
    "\n",
    "m\n"
   ]
  },
  {
   "cell_type": "code",
   "execution_count": null,
   "metadata": {},
   "outputs": [],
   "source": []
  }
 ],
 "metadata": {
  "kernelspec": {
   "display_name": "Python 3",
   "language": "python",
   "name": "python3"
  },
  "language_info": {
   "codemirror_mode": {
    "name": "ipython",
    "version": 3
   },
   "file_extension": ".py",
   "mimetype": "text/x-python",
   "name": "python",
   "nbconvert_exporter": "python",
   "pygments_lexer": "ipython3",
   "version": "3.7.6"
  }
 },
 "nbformat": 4,
 "nbformat_minor": 4
}
